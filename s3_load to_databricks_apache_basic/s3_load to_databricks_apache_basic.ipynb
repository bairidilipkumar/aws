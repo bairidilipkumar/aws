{
 "cells": [
  {
   "cell_type": "code",
   "execution_count": 0,
   "metadata": {
    "application/vnd.databricks.v1+cell": {
     "cellMetadata": {
      "byteLimit": 2048000,
      "rowLimit": 10000
     },
     "inputWidgets": {},
     "nuid": "de951620-6d47-4519-ae04-a06af0ae38e0",
     "showTitle": false,
     "title": ""
    }
   },
   "outputs": [
    {
     "output_type": "display_data",
     "data": {
      "text/html": [
       "\n",
       "            <div>\n",
       "                <p><b>SparkSession - hive</b></p>\n",
       "                \n",
       "        <div>\n",
       "            <p><b>SparkContext</b></p>\n",
       "\n",
       "            <p><a href=\"/?o=3219105181762441#setting/sparkui/0930-173211-5ylbh4la/driver-6386837031614243654\">Spark UI</a></p>\n",
       "\n",
       "            <dl>\n",
       "              <dt>Version</dt>\n",
       "                <dd><code>v3.3.2</code></dd>\n",
       "              <dt>Master</dt>\n",
       "                <dd><code>local[8]</code></dd>\n",
       "              <dt>AppName</dt>\n",
       "                <dd><code>Databricks Shell</code></dd>\n",
       "            </dl>\n",
       "        </div>\n",
       "        \n",
       "            </div>\n",
       "        "
      ]
     },
     "metadata": {
      "application/vnd.databricks.v1+output": {
       "addedWidgets": {},
       "arguments": {},
       "data": "\n            <div>\n                <p><b>SparkSession - hive</b></p>\n                \n        <div>\n            <p><b>SparkContext</b></p>\n\n            <p><a href=\"/?o=3219105181762441#setting/sparkui/0930-173211-5ylbh4la/driver-6386837031614243654\">Spark UI</a></p>\n\n            <dl>\n              <dt>Version</dt>\n                <dd><code>v3.3.2</code></dd>\n              <dt>Master</dt>\n                <dd><code>local[8]</code></dd>\n              <dt>AppName</dt>\n                <dd><code>Databricks Shell</code></dd>\n            </dl>\n        </div>\n        \n            </div>\n        ",
       "datasetInfos": [],
       "metadata": {},
       "removedWidgets": [],
       "textData": null,
       "type": "htmlSandbox"
      }
     },
     "output_type": "display_data"
    }
   ],
   "source": [
    "spark"
   ]
  },
  {
   "cell_type": "code",
   "execution_count": 0,
   "metadata": {
    "application/vnd.databricks.v1+cell": {
     "cellMetadata": {
      "byteLimit": 2048000,
      "rowLimit": 10000
     },
     "inputWidgets": {},
     "nuid": "3a3cfcfa-68af-43f1-b221-544e21cb6788",
     "showTitle": false,
     "title": ""
    }
   },
   "outputs": [
    {
     "output_type": "display_data",
     "data": {
      "text/html": [
       "\n",
       "            <div>\n",
       "                <p><b>SparkSession - hive</b></p>\n",
       "                \n",
       "        <div>\n",
       "            <p><b>SparkContext</b></p>\n",
       "\n",
       "            <p><a href=\"/?o=3219105181762441#setting/sparkui/0930-173211-5ylbh4la/driver-6386837031614243654\">Spark UI</a></p>\n",
       "\n",
       "            <dl>\n",
       "              <dt>Version</dt>\n",
       "                <dd><code>v3.3.2</code></dd>\n",
       "              <dt>Master</dt>\n",
       "                <dd><code>local[8]</code></dd>\n",
       "              <dt>AppName</dt>\n",
       "                <dd><code>Databricks Shell</code></dd>\n",
       "            </dl>\n",
       "        </div>\n",
       "        \n",
       "            </div>\n",
       "        "
      ]
     },
     "metadata": {
      "application/vnd.databricks.v1+output": {
       "addedWidgets": {},
       "arguments": {},
       "data": "\n            <div>\n                <p><b>SparkSession - hive</b></p>\n                \n        <div>\n            <p><b>SparkContext</b></p>\n\n            <p><a href=\"/?o=3219105181762441#setting/sparkui/0930-173211-5ylbh4la/driver-6386837031614243654\">Spark UI</a></p>\n\n            <dl>\n              <dt>Version</dt>\n                <dd><code>v3.3.2</code></dd>\n              <dt>Master</dt>\n                <dd><code>local[8]</code></dd>\n              <dt>AppName</dt>\n                <dd><code>Databricks Shell</code></dd>\n            </dl>\n        </div>\n        \n            </div>\n        ",
       "datasetInfos": [],
       "metadata": {},
       "removedWidgets": [],
       "textData": null,
       "type": "htmlSandbox"
      }
     },
     "output_type": "display_data"
    }
   ],
   "source": [
    "from pyspark.sql import SparkSession\n",
    "spark=SparkSession.builder.appName('apache-practise').getOrCreate()\n",
    "spark"
   ]
  },
  {
   "cell_type": "code",
   "execution_count": 0,
   "metadata": {
    "application/vnd.databricks.v1+cell": {
     "cellMetadata": {
      "byteLimit": 2048000,
      "rowLimit": 10000
     },
     "inputWidgets": {},
     "nuid": "dc8d7d9d-21c5-4c65-a850-476729f88395",
     "showTitle": false,
     "title": ""
    }
   },
   "outputs": [
    {
     "output_type": "stream",
     "name": "stdout",
     "output_type": "stream",
     "text": [
      "+-----------+----------+---------+-----+--------------+------+\n|employee_id|first_name|last_name|p_age|    department|salary|\n+-----------+----------+---------+-----+--------------+------+\n|          1|      John|      Doe|   30|            HR| 50000|\n|          2|      Jane|    Smith|   28|data engineeer| 70000|\n|          3|     Alice|  Johnson|   35|     Marketing| 60000|\n|          4|       Bob|    Brown|   40|        python| 55000|\n|          5|   Charlie|    Davis|   25|          java| 65000|\n|          6|     dilip|    bairi|   25| data engineer| 80000|\n|          7|   heamnth|  sukumar|   24|    salesforce| 85000|\n|          8|    srikar|   ambati|   24| data engineer| 70000|\n|          9|    hredee|anishetty|   24|          jave| 60000|\n|         10|   snehith|     puli|   24|        python| 90000|\n+-----------+----------+---------+-----+--------------+------+\n\n"
     ]
    }
   ],
   "source": [
    "access_key = ''\n",
    "secret_key = ''\n",
    "sc._jsc.hadoopConfiguration().set(\"fs.s3a.access.key\", access_key)\n",
    "sc._jsc.hadoopConfiguration().set(\"fs.s3a.secret.key\", secret_key)\n",
    "\n",
    "# If you are using Auto Loader file notification mode to load files, provide the AWS Region ID.\n",
    "aws_region = \"us-east-1\"\n",
    "sc._jsc.hadoopConfiguration().set(\"fs.s3a.endpoint\", \"s3.\" + aws_region + \".amazonaws.com\")\n",
    "\n",
    "df = spark.read.csv('s3a://outside-aws/employees_sample_data.csv',inferSchema=True,header=True)\n",
    "df.show()\n",
    "\n",
    "\n"
   ]
  },
  {
   "cell_type": "code",
   "execution_count": 0,
   "metadata": {
    "application/vnd.databricks.v1+cell": {
     "cellMetadata": {
      "byteLimit": 2048000,
      "rowLimit": 10000
     },
     "inputWidgets": {},
     "nuid": "1c9a638d-0511-4a52-8771-d89bd8e21899",
     "showTitle": false,
     "title": ""
    }
   },
   "outputs": [],
   "source": [
    "df=df.replace(\"jave\",\"java\",subset=[\"department\"])\n",
    "df=df.replace(\"data engineeer\",\"data engineer\",subset=[\"department\"])"
   ]
  },
  {
   "cell_type": "code",
   "execution_count": 0,
   "metadata": {
    "application/vnd.databricks.v1+cell": {
     "cellMetadata": {
      "byteLimit": 2048000,
      "rowLimit": 10000
     },
     "inputWidgets": {},
     "nuid": "aac7ad92-079c-489a-8a5b-23fb9d2ea4f7",
     "showTitle": false,
     "title": ""
    }
   },
   "outputs": [
    {
     "output_type": "stream",
     "name": "stdout",
     "output_type": "stream",
     "text": [
      "+-------------+--------------------------+----------------------------+\n|   department|total_salary_by_department|average_salary_in_department|\n+-------------+--------------------------+----------------------------+\n|   salesforce|                     85000|                     85000.0|\n|           HR|                     50000|                     50000.0|\n|data engineer|                    220000|           73333.33333333333|\n|    Marketing|                     60000|                     60000.0|\n|         java|                    125000|                     62500.0|\n|       python|                    145000|                     72500.0|\n+-------------+--------------------------+----------------------------+\n\n"
     ]
    }
   ],
   "source": [
    "from pyspark.sql.functions import sum, avg\n",
    "\n",
    "# Group by department and calculate the total and average salary\n",
    "total_and_avg = df.groupBy(\"department\").agg(\n",
    "    sum(\"salary\").alias(\"total_salary_by_department\"),\n",
    "    avg(\"salary\").alias(\"average_salary_in_department\")\n",
    ")\n",
    "\n",
    "# Show the result\n",
    "total_and_avg.show()\n"
   ]
  },
  {
   "cell_type": "code",
   "execution_count": 0,
   "metadata": {
    "application/vnd.databricks.v1+cell": {
     "cellMetadata": {
      "byteLimit": 2048000,
      "rowLimit": 10000
     },
     "inputWidgets": {},
     "nuid": "e8097601-f882-4c44-a869-21d617e9ae9d",
     "showTitle": false,
     "title": ""
    }
   },
   "outputs": [
    {
     "output_type": "stream",
     "name": "stdout",
     "output_type": "stream",
     "text": [
      "+-----------+----------+---------+-----+-------------+------+-------+\n|employee_id|first_name|last_name|p_age|   department|salary|  bonus|\n+-----------+----------+---------+-----+-------------+------+-------+\n|          1|      John|      Doe|   30|           HR| 50000|15000.0|\n|          2|      Jane|    Smith|   28|data engineer| 70000|21000.0|\n|          3|     Alice|  Johnson|   35|    Marketing| 60000|18000.0|\n|          4|       Bob|    Brown|   40|       python| 55000|16500.0|\n|          5|   Charlie|    Davis|   25|         java| 65000|19500.0|\n|          6|     dilip|    bairi|   25|data engineer| 80000|24000.0|\n|          7|   heamnth|  sukumar|   24|   salesforce| 85000|25500.0|\n|          8|    srikar|   ambati|   24|data engineer| 70000|21000.0|\n|          9|    hredee|anishetty|   24|         java| 60000|18000.0|\n|         10|   snehith|     puli|   24|       python| 90000|27000.0|\n+-----------+----------+---------+-----+-------------+------+-------+\n\n"
     ]
    }
   ],
   "source": [
    "from pyspark.sql.functions import col\n",
    "df=df.withColumn(\"bonus\",col(\"salary\")*0.30)\n",
    "df.show()"
   ]
  },
  {
   "cell_type": "code",
   "execution_count": 0,
   "metadata": {
    "application/vnd.databricks.v1+cell": {
     "cellMetadata": {
      "byteLimit": 2048000,
      "rowLimit": 10000
     },
     "inputWidgets": {},
     "nuid": "ae315797-8522-411d-b2d2-486e5064b3c2",
     "showTitle": false,
     "title": ""
    }
   },
   "outputs": [
    {
     "output_type": "stream",
     "name": "stdout",
     "output_type": "stream",
     "text": [
      "+-----------+----------+---------+-----+-------------+------+-------+------------------+\n|employee_id|first_name|last_name|p_age|   department|salary|  bonus|salary_after_bonus|\n+-----------+----------+---------+-----+-------------+------+-------+------------------+\n|          1|      John|      Doe|   30|           HR| 50000|15000.0|           65000.0|\n|          2|      Jane|    Smith|   28|data engineer| 70000|21000.0|           91000.0|\n|          3|     Alice|  Johnson|   35|    Marketing| 60000|18000.0|           78000.0|\n|          4|       Bob|    Brown|   40|       python| 55000|16500.0|           71500.0|\n|          5|   Charlie|    Davis|   25|         java| 65000|19500.0|           84500.0|\n|          6|     dilip|    bairi|   25|data engineer| 80000|24000.0|          104000.0|\n|          7|   heamnth|  sukumar|   24|   salesforce| 85000|25500.0|          110500.0|\n|          8|    srikar|   ambati|   24|data engineer| 70000|21000.0|           91000.0|\n|          9|    hredee|anishetty|   24|         java| 60000|18000.0|           78000.0|\n|         10|   snehith|     puli|   24|       python| 90000|27000.0|          117000.0|\n+-----------+----------+---------+-----+-------------+------+-------+------------------+\n\n"
     ]
    }
   ],
   "source": [
    "df=df.withColumn(\"salary_after_bonus\", col(\"salary\")+col(\"bonus\"))\n",
    "df.show()"
   ]
  },
  {
   "cell_type": "code",
   "execution_count": 0,
   "metadata": {
    "application/vnd.databricks.v1+cell": {
     "cellMetadata": {
      "byteLimit": 2048000,
      "rowLimit": 10000
     },
     "inputWidgets": {},
     "nuid": "085a4a65-6ec0-4106-bd1f-57d9c3f9bc98",
     "showTitle": false,
     "title": ""
    }
   },
   "outputs": [
    {
     "output_type": "stream",
     "name": "stdout",
     "output_type": "stream",
     "text": [
      "+-----------+----------+---------+-----+-------------+------+-------+------------------+------------+--------------------------------+\n|employee_id|first_name|last_name|p_age|   department|salary|  bonus|salary_after_bonus|Tax_dedected|Tax_dedected_after_salary_bonous|\n+-----------+----------+---------+-----+-------------+------+-------+------------------+------------+--------------------------------+\n|          1|      John|      Doe|   30|           HR| 50000|15000.0|           65000.0|      5000.0|                          6500.0|\n|          2|      Jane|    Smith|   28|data engineer| 70000|21000.0|           91000.0|      7000.0|                          9100.0|\n|          3|     Alice|  Johnson|   35|    Marketing| 60000|18000.0|           78000.0|      6000.0|                          7800.0|\n|          4|       Bob|    Brown|   40|       python| 55000|16500.0|           71500.0|      5500.0|                          7150.0|\n|          5|   Charlie|    Davis|   25|         java| 65000|19500.0|           84500.0|      6500.0|                          8450.0|\n|          6|     dilip|    bairi|   25|data engineer| 80000|24000.0|          104000.0|      8000.0|                         15600.0|\n|          7|   heamnth|  sukumar|   24|   salesforce| 85000|25500.0|          110500.0|      8500.0|                         16575.0|\n|          8|    srikar|   ambati|   24|data engineer| 70000|21000.0|           91000.0|      7000.0|                          9100.0|\n|          9|    hredee|anishetty|   24|         java| 60000|18000.0|           78000.0|      6000.0|                          7800.0|\n|         10|   snehith|     puli|   24|       python| 90000|27000.0|          117000.0|      9000.0|                         17550.0|\n+-----------+----------+---------+-----+-------------+------+-------+------------------+------------+--------------------------------+\n\n"
     ]
    }
   ],
   "source": [
    "from pyspark.sql.functions import when\n",
    "df=df.withColumn(\"Tax_dedected_after_salary_bonous\",when(col(\"salary_after_bonus\")>100000,col(\"salary_after_bonus\")*0.15).otherwise(col(\"salary_after_bonus\")*0.10))\n",
    "df.show()"
   ]
  },
  {
   "cell_type": "code",
   "execution_count": 0,
   "metadata": {
    "application/vnd.databricks.v1+cell": {
     "cellMetadata": {
      "byteLimit": 2048000,
      "rowLimit": 10000
     },
     "inputWidgets": {},
     "nuid": "9cf5a0d0-ab3e-4edd-afb7-7eadc512da3b",
     "showTitle": false,
     "title": ""
    }
   },
   "outputs": [
    {
     "output_type": "display_data",
     "data": {
      "text/html": [
       "<div>\n",
       "<style scoped>\n",
       "    .dataframe tbody tr th:only-of-type {\n",
       "        vertical-align: middle;\n",
       "    }\n",
       "\n",
       "    .dataframe tbody tr th {\n",
       "        vertical-align: top;\n",
       "    }\n",
       "\n",
       "    .dataframe thead th {\n",
       "        text-align: right;\n",
       "    }\n",
       "</style>\n",
       "<table border=\"1\" class=\"dataframe\">\n",
       "  <thead>\n",
       "    <tr style=\"text-align: right;\">\n",
       "      <th></th>\n",
       "      <th>employee_id</th>\n",
       "      <th>first_name</th>\n",
       "      <th>last_name</th>\n",
       "      <th>p_age</th>\n",
       "      <th>department</th>\n",
       "      <th>salary</th>\n",
       "      <th>bonus</th>\n",
       "      <th>salary_after_bonus</th>\n",
       "      <th>Tax_dedected</th>\n",
       "      <th>Tax_dedected_after_salary_bonous</th>\n",
       "      <th>permenant_employee</th>\n",
       "    </tr>\n",
       "  </thead>\n",
       "  <tbody>\n",
       "    <tr>\n",
       "      <th>0</th>\n",
       "      <td>1</td>\n",
       "      <td>John</td>\n",
       "      <td>Doe</td>\n",
       "      <td>30</td>\n",
       "      <td>HR</td>\n",
       "      <td>50000</td>\n",
       "      <td>15000.0</td>\n",
       "      <td>65000.0</td>\n",
       "      <td>5000.0</td>\n",
       "      <td>6500.0</td>\n",
       "      <td>contracted based</td>\n",
       "    </tr>\n",
       "    <tr>\n",
       "      <th>1</th>\n",
       "      <td>2</td>\n",
       "      <td>Jane</td>\n",
       "      <td>Smith</td>\n",
       "      <td>28</td>\n",
       "      <td>data engineer</td>\n",
       "      <td>70000</td>\n",
       "      <td>21000.0</td>\n",
       "      <td>91000.0</td>\n",
       "      <td>7000.0</td>\n",
       "      <td>9100.0</td>\n",
       "      <td>contracted based</td>\n",
       "    </tr>\n",
       "    <tr>\n",
       "      <th>2</th>\n",
       "      <td>3</td>\n",
       "      <td>Alice</td>\n",
       "      <td>Johnson</td>\n",
       "      <td>35</td>\n",
       "      <td>Marketing</td>\n",
       "      <td>60000</td>\n",
       "      <td>18000.0</td>\n",
       "      <td>78000.0</td>\n",
       "      <td>6000.0</td>\n",
       "      <td>7800.0</td>\n",
       "      <td>permanent employee</td>\n",
       "    </tr>\n",
       "    <tr>\n",
       "      <th>3</th>\n",
       "      <td>4</td>\n",
       "      <td>Bob</td>\n",
       "      <td>Brown</td>\n",
       "      <td>40</td>\n",
       "      <td>python</td>\n",
       "      <td>55000</td>\n",
       "      <td>16500.0</td>\n",
       "      <td>71500.0</td>\n",
       "      <td>5500.0</td>\n",
       "      <td>7150.0</td>\n",
       "      <td>permanent employee</td>\n",
       "    </tr>\n",
       "    <tr>\n",
       "      <th>4</th>\n",
       "      <td>5</td>\n",
       "      <td>Charlie</td>\n",
       "      <td>Davis</td>\n",
       "      <td>25</td>\n",
       "      <td>java</td>\n",
       "      <td>65000</td>\n",
       "      <td>19500.0</td>\n",
       "      <td>84500.0</td>\n",
       "      <td>6500.0</td>\n",
       "      <td>8450.0</td>\n",
       "      <td>contracted based</td>\n",
       "    </tr>\n",
       "    <tr>\n",
       "      <th>5</th>\n",
       "      <td>6</td>\n",
       "      <td>dilip</td>\n",
       "      <td>bairi</td>\n",
       "      <td>25</td>\n",
       "      <td>data engineer</td>\n",
       "      <td>80000</td>\n",
       "      <td>24000.0</td>\n",
       "      <td>104000.0</td>\n",
       "      <td>8000.0</td>\n",
       "      <td>15600.0</td>\n",
       "      <td>contracted based</td>\n",
       "    </tr>\n",
       "    <tr>\n",
       "      <th>6</th>\n",
       "      <td>7</td>\n",
       "      <td>heamnth</td>\n",
       "      <td>sukumar</td>\n",
       "      <td>24</td>\n",
       "      <td>salesforce</td>\n",
       "      <td>85000</td>\n",
       "      <td>25500.0</td>\n",
       "      <td>110500.0</td>\n",
       "      <td>8500.0</td>\n",
       "      <td>16575.0</td>\n",
       "      <td>contracted based</td>\n",
       "    </tr>\n",
       "    <tr>\n",
       "      <th>7</th>\n",
       "      <td>8</td>\n",
       "      <td>srikar</td>\n",
       "      <td>ambati</td>\n",
       "      <td>24</td>\n",
       "      <td>data engineer</td>\n",
       "      <td>70000</td>\n",
       "      <td>21000.0</td>\n",
       "      <td>91000.0</td>\n",
       "      <td>7000.0</td>\n",
       "      <td>9100.0</td>\n",
       "      <td>contracted based</td>\n",
       "    </tr>\n",
       "    <tr>\n",
       "      <th>8</th>\n",
       "      <td>9</td>\n",
       "      <td>hredee</td>\n",
       "      <td>anishetty</td>\n",
       "      <td>24</td>\n",
       "      <td>java</td>\n",
       "      <td>60000</td>\n",
       "      <td>18000.0</td>\n",
       "      <td>78000.0</td>\n",
       "      <td>6000.0</td>\n",
       "      <td>7800.0</td>\n",
       "      <td>contracted based</td>\n",
       "    </tr>\n",
       "    <tr>\n",
       "      <th>9</th>\n",
       "      <td>10</td>\n",
       "      <td>snehith</td>\n",
       "      <td>puli</td>\n",
       "      <td>24</td>\n",
       "      <td>python</td>\n",
       "      <td>90000</td>\n",
       "      <td>27000.0</td>\n",
       "      <td>117000.0</td>\n",
       "      <td>9000.0</td>\n",
       "      <td>17550.0</td>\n",
       "      <td>contracted based</td>\n",
       "    </tr>\n",
       "  </tbody>\n",
       "</table>\n",
       "</div>"
      ]
     },
     "metadata": {
      "application/vnd.databricks.v1+output": {
       "addedWidgets": {},
       "arguments": {},
       "data": "<div>\n<style scoped>\n    .dataframe tbody tr th:only-of-type {\n        vertical-align: middle;\n    }\n\n    .dataframe tbody tr th {\n        vertical-align: top;\n    }\n\n    .dataframe thead th {\n        text-align: right;\n    }\n</style>\n<table border=\"1\" class=\"dataframe\">\n  <thead>\n    <tr style=\"text-align: right;\">\n      <th></th>\n      <th>employee_id</th>\n      <th>first_name</th>\n      <th>last_name</th>\n      <th>p_age</th>\n      <th>department</th>\n      <th>salary</th>\n      <th>bonus</th>\n      <th>salary_after_bonus</th>\n      <th>Tax_dedected</th>\n      <th>Tax_dedected_after_salary_bonous</th>\n      <th>permenant_employee</th>\n    </tr>\n  </thead>\n  <tbody>\n    <tr>\n      <th>0</th>\n      <td>1</td>\n      <td>John</td>\n      <td>Doe</td>\n      <td>30</td>\n      <td>HR</td>\n      <td>50000</td>\n      <td>15000.0</td>\n      <td>65000.0</td>\n      <td>5000.0</td>\n      <td>6500.0</td>\n      <td>contracted based</td>\n    </tr>\n    <tr>\n      <th>1</th>\n      <td>2</td>\n      <td>Jane</td>\n      <td>Smith</td>\n      <td>28</td>\n      <td>data engineer</td>\n      <td>70000</td>\n      <td>21000.0</td>\n      <td>91000.0</td>\n      <td>7000.0</td>\n      <td>9100.0</td>\n      <td>contracted based</td>\n    </tr>\n    <tr>\n      <th>2</th>\n      <td>3</td>\n      <td>Alice</td>\n      <td>Johnson</td>\n      <td>35</td>\n      <td>Marketing</td>\n      <td>60000</td>\n      <td>18000.0</td>\n      <td>78000.0</td>\n      <td>6000.0</td>\n      <td>7800.0</td>\n      <td>permanent employee</td>\n    </tr>\n    <tr>\n      <th>3</th>\n      <td>4</td>\n      <td>Bob</td>\n      <td>Brown</td>\n      <td>40</td>\n      <td>python</td>\n      <td>55000</td>\n      <td>16500.0</td>\n      <td>71500.0</td>\n      <td>5500.0</td>\n      <td>7150.0</td>\n      <td>permanent employee</td>\n    </tr>\n    <tr>\n      <th>4</th>\n      <td>5</td>\n      <td>Charlie</td>\n      <td>Davis</td>\n      <td>25</td>\n      <td>java</td>\n      <td>65000</td>\n      <td>19500.0</td>\n      <td>84500.0</td>\n      <td>6500.0</td>\n      <td>8450.0</td>\n      <td>contracted based</td>\n    </tr>\n    <tr>\n      <th>5</th>\n      <td>6</td>\n      <td>dilip</td>\n      <td>bairi</td>\n      <td>25</td>\n      <td>data engineer</td>\n      <td>80000</td>\n      <td>24000.0</td>\n      <td>104000.0</td>\n      <td>8000.0</td>\n      <td>15600.0</td>\n      <td>contracted based</td>\n    </tr>\n    <tr>\n      <th>6</th>\n      <td>7</td>\n      <td>heamnth</td>\n      <td>sukumar</td>\n      <td>24</td>\n      <td>salesforce</td>\n      <td>85000</td>\n      <td>25500.0</td>\n      <td>110500.0</td>\n      <td>8500.0</td>\n      <td>16575.0</td>\n      <td>contracted based</td>\n    </tr>\n    <tr>\n      <th>7</th>\n      <td>8</td>\n      <td>srikar</td>\n      <td>ambati</td>\n      <td>24</td>\n      <td>data engineer</td>\n      <td>70000</td>\n      <td>21000.0</td>\n      <td>91000.0</td>\n      <td>7000.0</td>\n      <td>9100.0</td>\n      <td>contracted based</td>\n    </tr>\n    <tr>\n      <th>8</th>\n      <td>9</td>\n      <td>hredee</td>\n      <td>anishetty</td>\n      <td>24</td>\n      <td>java</td>\n      <td>60000</td>\n      <td>18000.0</td>\n      <td>78000.0</td>\n      <td>6000.0</td>\n      <td>7800.0</td>\n      <td>contracted based</td>\n    </tr>\n    <tr>\n      <th>9</th>\n      <td>10</td>\n      <td>snehith</td>\n      <td>puli</td>\n      <td>24</td>\n      <td>python</td>\n      <td>90000</td>\n      <td>27000.0</td>\n      <td>117000.0</td>\n      <td>9000.0</td>\n      <td>17550.0</td>\n      <td>contracted based</td>\n    </tr>\n  </tbody>\n</table>\n</div>",
       "datasetInfos": [],
       "metadata": {},
       "removedWidgets": [],
       "textData": null,
       "type": "htmlSandbox"
      }
     },
     "output_type": "display_data"
    }
   ],
   "source": [
    "import pandas as pd\n",
    "df=df.withColumn(\"permenant_employee\",when(col(\"p_age\")>=35,\"permanent employee\").otherwise(\"contracted based\"))\n",
    "da=df.toPandas()\n",
    "da"
   ]
  },
  {
   "cell_type": "code",
   "execution_count": 0,
   "metadata": {
    "application/vnd.databricks.v1+cell": {
     "cellMetadata": {
      "byteLimit": 2048000,
      "rowLimit": 10000
     },
     "inputWidgets": {},
     "nuid": "9407968d-efba-45fe-a487-367bad1e36a2",
     "showTitle": false,
     "title": ""
    }
   },
   "outputs": [
    {
     "output_type": "stream",
     "name": "stdout",
     "output_type": "stream",
     "text": [
      "+----------+---------+-----+\n|first_name|last_name|p_age|\n+----------+---------+-----+\n|       Bob|    Brown|   40|\n|     Alice|  Johnson|   35|\n+----------+---------+-----+\n\n"
     ]
    }
   ],
   "source": [
    "# Create a temporary view called \"employees\"\n",
    "df.createOrReplaceTempView(\"employees\")\n",
    "# Run SQL query to select specific columns and filter data\n",
    "result = spark.sql(\"\"\"\n",
    "                   SELECT first_name, last_name, p_age FROM employees WHERE p_age > 30 ORDER BY p_age DESC\n",
    "                   \"\"\")\n",
    "\n",
    "# Show the query result\n",
    "result.show()\n",
    "\n"
   ]
  },
  {
   "cell_type": "code",
   "execution_count": 0,
   "metadata": {
    "application/vnd.databricks.v1+cell": {
     "cellMetadata": {
      "byteLimit": 2048000,
      "implicitDf": true,
      "rowLimit": 10000
     },
     "inputWidgets": {},
     "nuid": "2c69ac9e-439c-4e05-ba64-c40baa37551a",
     "showTitle": false,
     "title": ""
    }
   },
   "outputs": [
    {
     "output_type": "display_data",
     "data": {
      "text/html": [
       "<style scoped>\n",
       "  .table-result-container {\n",
       "    max-height: 300px;\n",
       "    overflow: auto;\n",
       "  }\n",
       "  table, th, td {\n",
       "    border: 1px solid black;\n",
       "    border-collapse: collapse;\n",
       "  }\n",
       "  th, td {\n",
       "    padding: 5px;\n",
       "  }\n",
       "  th {\n",
       "    text-align: left;\n",
       "  }\n",
       "</style><div class='table-result-container'><table class='table-result'><thead style='background-color: white'><tr><th>department</th><th>sum(salary)</th></tr></thead><tbody><tr><td>data engineer</td><td>220000</td></tr><tr><td>python</td><td>145000</td></tr><tr><td>java</td><td>125000</td></tr><tr><td>salesforce</td><td>85000</td></tr><tr><td>Marketing</td><td>60000</td></tr><tr><td>HR</td><td>50000</td></tr></tbody></table></div>"
      ]
     },
     "metadata": {
      "application/vnd.databricks.v1+output": {
       "addedWidgets": {},
       "aggData": [],
       "aggError": "",
       "aggOverflow": false,
       "aggSchema": [],
       "aggSeriesLimitReached": false,
       "aggType": "",
       "arguments": {},
       "columnCustomDisplayInfos": {},
       "data": [
        [
         "data engineer",
         220000
        ],
        [
         "python",
         145000
        ],
        [
         "java",
         125000
        ],
        [
         "salesforce",
         85000
        ],
        [
         "Marketing",
         60000
        ],
        [
         "HR",
         50000
        ]
       ],
       "datasetInfos": [],
       "dbfsResultPath": null,
       "isJsonSchema": true,
       "metadata": {},
       "overflow": false,
       "plotOptions": {
        "customPlotOptions": {},
        "displayType": "table",
        "pivotAggregation": null,
        "pivotColumns": null,
        "xColumns": null,
        "yColumns": null
       },
       "removedWidgets": [],
       "schema": [
        {
         "metadata": "{}",
         "name": "department",
         "type": "\"string\""
        },
        {
         "metadata": "{\"__autoGeneratedAlias\":\"true\"}",
         "name": "sum(salary)",
         "type": "\"long\""
        }
       ],
       "type": "table"
      }
     },
     "output_type": "display_data"
    }
   ],
   "source": [
    "%sql\n",
    "select department, sum(salary) from employees group by department order by SUM(salary) DESC"
   ]
  },
  {
   "cell_type": "code",
   "execution_count": 0,
   "metadata": {
    "application/vnd.databricks.v1+cell": {
     "cellMetadata": {},
     "inputWidgets": {},
     "nuid": "20c1c042-3f52-41d6-acd0-c0e45a6281bb",
     "showTitle": false,
     "title": ""
    }
   },
   "outputs": [],
   "source": []
  }
 ],
 "metadata": {
  "application/vnd.databricks.v1+notebook": {
   "dashboards": [],
   "environmentMetadata": null,
   "language": "python",
   "notebookMetadata": {
    "mostRecentlyExecutedCommandWithImplicitDF": {
     "commandId": 2389080289311895,
     "dataframes": [
      "_sqldf"
     ]
    },
    "pythonIndentUnit": 4
   },
   "notebookName": "s3_practise_apache",
   "widgets": {}
  }
 },
 "nbformat": 4,
 "nbformat_minor": 0
}
